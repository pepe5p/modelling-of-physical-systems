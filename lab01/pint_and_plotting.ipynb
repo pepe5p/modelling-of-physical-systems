{
 "nbformat": 4,
 "nbformat_minor": 0,
 "metadata": {
  "colab": {
   "provenance": [],
   "authorship_tag": "ABX9TyNQ5bUvftQ6Iz6r4aqYnbiO"
  },
  "kernelspec": {
   "name": "python3",
   "display_name": "Python 3 (ipykernel)",
   "language": "python"
  },
  "language_info": {
   "name": "python"
  }
 },
 "cells": [
  {
   "cell_type": "code",
   "source": [
    "import pint"
   ],
   "metadata": {
    "id": "7jz1VkJc7a3R",
    "executionInfo": {
     "status": "ok",
     "timestamp": 1741104755585,
     "user_tz": -60,
     "elapsed": 2380,
     "user": {
      "displayName": "Piotr Karaś",
      "userId": "12592640736628024025"
     }
    },
    "ExecuteTime": {
     "end_time": "2025-03-18T15:03:35.308701Z",
     "start_time": "2025-03-18T15:03:35.307070Z"
    }
   },
   "outputs": [],
   "execution_count": 7
  },
  {
   "cell_type": "code",
   "source": [
    "si = pint.UnitRegistry()"
   ],
   "metadata": {
    "id": "7qnxXrZ67j3D",
    "executionInfo": {
     "status": "ok",
     "timestamp": 1741106263740,
     "user_tz": -60,
     "elapsed": 217,
     "user": {
      "displayName": "Piotr Karaś",
      "userId": "12592640736628024025"
     }
    },
    "ExecuteTime": {
     "end_time": "2025-03-18T15:03:35.387615Z",
     "start_time": "2025-03-18T15:03:35.315443Z"
    }
   },
   "outputs": [],
   "execution_count": 8
  },
  {
   "cell_type": "code",
   "source": [
    "from scipy import constants\n",
    "\n",
    "temperature = (19 + constants.zero_Celsius) * si.K\n",
    "pressure = 1000 * si.hPa\n",
    "R_str = constants.R * si.joule / (si.kelvin * si.mole)\n",
    "M_dry = 28.966 * si.g / si.mol"
   ],
   "metadata": {
    "id": "Fuvb4G-y8-N8",
    "executionInfo": {
     "status": "ok",
     "timestamp": 1741106698979,
     "user_tz": -60,
     "elapsed": 41,
     "user": {
      "displayName": "Piotr Karaś",
      "userId": "12592640736628024025"
     }
    },
    "ExecuteTime": {
     "end_time": "2025-03-18T15:03:35.395017Z",
     "start_time": "2025-03-18T15:03:35.392335Z"
    }
   },
   "outputs": [],
   "execution_count": 9
  },
  {
   "cell_type": "code",
   "source": [
    "density = pressure * M_dry / (R_str * temperature)\n",
    "density"
   ],
   "metadata": {
    "colab": {
     "base_uri": "https://localhost:8080/",
     "height": 34
    },
    "id": "qm0B4uE9_Nnt",
    "executionInfo": {
     "status": "ok",
     "timestamp": 1741106699294,
     "user_tz": -60,
     "elapsed": 5,
     "user": {
      "displayName": "Piotr Karaś",
      "userId": "12592640736628024025"
     }
    },
    "outputId": "4687129c-a8cb-47e9-b250-23ffb5c7a0ea",
    "ExecuteTime": {
     "end_time": "2025-03-18T15:03:35.405051Z",
     "start_time": "2025-03-18T15:03:35.400769Z"
    }
   },
   "outputs": [
    {
     "data": {
      "text/plain": [
       "<Quantity(11.9247271, 'hectopascal * gram / joule')>"
      ],
      "text/html": [
       "11.924727147587209 gram hectopascal/joule"
      ],
      "text/latex": "$11.924727147587209\\ \\frac{\\mathrm{gram} \\cdot \\mathrm{hectopascal}}{\\mathrm{joule}}$"
     },
     "execution_count": 10,
     "metadata": {},
     "output_type": "execute_result"
    }
   ],
   "execution_count": 10
  },
  {
   "cell_type": "code",
   "source": [
    "density.check(\"[density]\")"
   ],
   "metadata": {
    "colab": {
     "base_uri": "https://localhost:8080/"
    },
    "id": "iNnJzZ01CBnO",
    "executionInfo": {
     "status": "ok",
     "timestamp": 1741106699770,
     "user_tz": -60,
     "elapsed": 3,
     "user": {
      "displayName": "Piotr Karaś",
      "userId": "12592640736628024025"
     }
    },
    "outputId": "3bbc50f8-90c3-4c07-d92a-335d631720d1",
    "ExecuteTime": {
     "end_time": "2025-03-18T15:03:35.425159Z",
     "start_time": "2025-03-18T15:03:35.422561Z"
    }
   },
   "outputs": [
    {
     "data": {
      "text/plain": [
       "True"
      ]
     },
     "execution_count": 11,
     "metadata": {},
     "output_type": "execute_result"
    }
   ],
   "execution_count": 11
  },
  {
   "cell_type": "code",
   "source": [
    "density.check(\"[mass]\")"
   ],
   "metadata": {
    "colab": {
     "base_uri": "https://localhost:8080/"
    },
    "id": "XGdVnxoECDxs",
    "executionInfo": {
     "status": "ok",
     "timestamp": 1741106700300,
     "user_tz": -60,
     "elapsed": 6,
     "user": {
      "displayName": "Piotr Karaś",
      "userId": "12592640736628024025"
     }
    },
    "outputId": "40a4fe86-80aa-455d-a65a-4eb218769704",
    "ExecuteTime": {
     "end_time": "2025-03-18T15:03:35.443137Z",
     "start_time": "2025-03-18T15:03:35.440600Z"
    }
   },
   "outputs": [
    {
     "data": {
      "text/plain": [
       "False"
      ]
     },
     "execution_count": 12,
     "metadata": {},
     "output_type": "execute_result"
    }
   ],
   "execution_count": 12
  },
  {
   "cell_type": "code",
   "source": [
    "density.to_base_units()"
   ],
   "metadata": {
    "colab": {
     "base_uri": "https://localhost:8080/",
     "height": 37
    },
    "id": "XIS0R6rmCW2X",
    "executionInfo": {
     "status": "ok",
     "timestamp": 1741106700587,
     "user_tz": -60,
     "elapsed": 5,
     "user": {
      "displayName": "Piotr Karaś",
      "userId": "12592640736628024025"
     }
    },
    "outputId": "d98e4cbd-0c7a-4a57-b5ba-798a845580c3",
    "ExecuteTime": {
     "end_time": "2025-03-18T15:03:35.459886Z",
     "start_time": "2025-03-18T15:03:35.457167Z"
    }
   },
   "outputs": [
    {
     "data": {
      "text/plain": [
       "<Quantity(1.19247271, 'kilogram / meter ** 3')>"
      ],
      "text/html": [
       "1.1924727147587209 kilogram/meter<sup>3</sup>"
      ],
      "text/latex": "$1.1924727147587209\\ \\frac{\\mathrm{kilogram}}{\\mathrm{meter}^{3}}$"
     },
     "execution_count": 13,
     "metadata": {},
     "output_type": "execute_result"
    }
   ],
   "execution_count": 13
  },
  {
   "cell_type": "code",
   "source": [
    "f\"{density.to_base_units():.3g}\""
   ],
   "metadata": {
    "colab": {
     "base_uri": "https://localhost:8080/",
     "height": 35
    },
    "id": "FrMaQbp6Ckgv",
    "executionInfo": {
     "status": "ok",
     "timestamp": 1741106700708,
     "user_tz": -60,
     "elapsed": 3,
     "user": {
      "displayName": "Piotr Karaś",
      "userId": "12592640736628024025"
     }
    },
    "outputId": "193396d1-793c-4944-9406-7f9305a22779",
    "ExecuteTime": {
     "end_time": "2025-03-18T15:03:35.474382Z",
     "start_time": "2025-03-18T15:03:35.472180Z"
    }
   },
   "outputs": [
    {
     "data": {
      "text/plain": [
       "'1.19 kilogram / meter ** 3'"
      ]
     },
     "execution_count": 14,
     "metadata": {},
     "output_type": "execute_result"
    }
   ],
   "execution_count": 14
  },
  {
   "cell_type": "markdown",
   "source": [
    "# Plotting"
   ],
   "metadata": {
    "id": "Yy8qdHbjF30A"
   }
  },
  {
   "cell_type": "code",
   "source": [
    "import numpy as np\n",
    "\n",
    "def tetens_equation(temperature):\n",
    "    \"\"\"Equilibrium vapor pressure\"\"\"\n",
    "    T = temperature\n",
    "    TC = T - constants.zero_Celsius * si.K\n",
    "    e_s = 6.11 * np.exp((17.27 * temperature) / (temperature + 237.3 * si.K)) * si.kPa\n",
    "    return e_s"
   ],
   "metadata": {
    "id": "7NFAP_5zC0zh",
    "executionInfo": {
     "status": "ok",
     "timestamp": 1741107874614,
     "user_tz": -60,
     "elapsed": 2,
     "user": {
      "displayName": "Piotr Karaś",
      "userId": "12592640736628024025"
     }
    },
    "ExecuteTime": {
     "end_time": "2025-03-18T15:03:35.491599Z",
     "start_time": "2025-03-18T15:03:35.489541Z"
    }
   },
   "outputs": [],
   "execution_count": 15
  },
  {
   "cell_type": "code",
   "source": [
    "tetens_equation(100 * si.kelvin)"
   ],
   "metadata": {
    "colab": {
     "base_uri": "https://localhost:8080/",
     "height": 34
    },
    "id": "PrnddlBPGo5c",
    "executionInfo": {
     "status": "ok",
     "timestamp": 1741107987317,
     "user_tz": -60,
     "elapsed": 4,
     "user": {
      "displayName": "Piotr Karaś",
      "userId": "12592640736628024025"
     }
    },
    "outputId": "40fbb30e-fbca-4f39-c253-bf555567b8d5",
    "ExecuteTime": {
     "end_time": "2025-03-18T15:03:35.501475Z",
     "start_time": "2025-03-18T15:03:35.498222Z"
    }
   },
   "outputs": [
    {
     "data": {
      "text/plain": [
       "<Quantity(1022.49186, 'kilopascal')>"
      ],
      "text/html": [
       "1022.4918594421755 kilopascal"
      ],
      "text/latex": "$1022.4918594421755\\ \\mathrm{kilopascal}$"
     },
     "execution_count": 16,
     "metadata": {},
     "output_type": "execute_result"
    }
   ],
   "execution_count": 16
  },
  {
   "cell_type": "code",
   "source": [
    "from matplotlib import pyplot as plt"
   ],
   "metadata": {
    "id": "I_lgRcPkGL3G",
    "executionInfo": {
     "status": "ok",
     "timestamp": 1741108441644,
     "user_tz": -60,
     "elapsed": 1,
     "user": {
      "displayName": "Piotr Karaś",
      "userId": "12592640736628024025"
     }
    },
    "ExecuteTime": {
     "end_time": "2025-03-18T15:03:36.221259Z",
     "start_time": "2025-03-18T15:03:35.560573Z"
    }
   },
   "outputs": [],
   "execution_count": 17
  },
  {
   "cell_type": "code",
   "source": [
    "si.setup_matplotlib()"
   ],
   "metadata": {
    "id": "R08sN9aMGKxq",
    "executionInfo": {
     "status": "ok",
     "timestamp": 1741108441880,
     "user_tz": -60,
     "elapsed": 1,
     "user": {
      "displayName": "Piotr Karaś",
      "userId": "12592640736628024025"
     }
    },
    "ExecuteTime": {
     "end_time": "2025-03-18T15:03:36.229140Z",
     "start_time": "2025-03-18T15:03:36.226194Z"
    }
   },
   "outputs": [],
   "execution_count": 18
  },
  {
   "cell_type": "code",
   "source": [
    "temps = np.linspace(250, 320) * si.K\n",
    "\n",
    "# Plot using matplotlib with Pint integration.\n",
    "plt.plot(temps, tetens_equation(temps), label=\"Tetens Equation\")\n",
    "plt.grid(True)\n",
    "plt.legend()\n",
    "plt.show()"
   ],
   "metadata": {
    "colab": {
     "base_uri": "https://localhost:8080/",
     "height": 449
    },
    "id": "3CMmVRzOIt_M",
    "executionInfo": {
     "status": "ok",
     "timestamp": 1741108540711,
     "user_tz": -60,
     "elapsed": 220,
     "user": {
      "displayName": "Piotr Karaś",
      "userId": "12592640736628024025"
     }
    },
    "outputId": "0aee0adf-b0cd-4629-914a-92c244755618",
    "ExecuteTime": {
     "end_time": "2025-03-18T15:03:36.351937Z",
     "start_time": "2025-03-18T15:03:36.233690Z"
    }
   },
   "outputs": [
    {
     "data": {
      "text/plain": [
       "<Figure size 640x480 with 1 Axes>"
      ],
      "image/png": "[encoded data removed]"
     },
     "metadata": {},
     "output_type": "display_data"
    }
   ],
   "execution_count": 19
  },
  {
   "cell_type": "code",
   "source": [],
   "metadata": {
    "id": "UQKGJK-mJykq",
    "ExecuteTime": {
     "end_time": "2025-03-18T15:03:36.360238Z",
     "start_time": "2025-03-18T15:03:36.358905Z"
    }
   },
   "outputs": [],
   "execution_count": null
  },
  {
   "cell_type": "code",
   "source": [],
   "metadata": {
    "id": "dNmEULKTJhEO",
    "ExecuteTime": {
     "end_time": "2025-03-18T15:03:36.380351Z",
     "start_time": "2025-03-18T15:03:36.378792Z"
    }
   },
   "outputs": [],
   "execution_count": null
  }
 ]
}
